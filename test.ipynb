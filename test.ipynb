{
 "cells": [
  {
   "cell_type": "code",
   "execution_count": 1,
   "metadata": {
    "collapsed": true,
    "ExecuteTime": {
     "start_time": "2023-05-04T21:36:58.550183Z",
     "end_time": "2023-05-04T21:37:19.273958Z"
    }
   },
   "outputs": [
    {
     "name": "stdout",
     "output_type": "stream",
     "text": [
      "./dataset/test\\test_dataset_part_1.csv 已加载\n"
     ]
    },
    {
     "name": "stderr",
     "output_type": "stream",
     "text": [
      "C:\\Users\\malong\\.conda\\envs\\paddlepaddle_study\\lib\\site-packages\\paddle\\nn\\layer\\norm.py:712: UserWarning: When training, we now always track global mean and variance.\n",
      "  warnings.warn(\n"
     ]
    },
    {
     "name": "stdout",
     "output_type": "stream",
     "text": [
      "(0.7721428571428571, 0.6941216678058784, 0.9703774486383182, 0.8093245666467423)\n"
     ]
    }
   ],
   "source": [
    "import paddle\n",
    "import model\n",
    "from dataset import MyDataset\n",
    "from train_and_test import test\n",
    "\n",
    "weight = paddle.load('model/FCN.pdparams')\n",
    "\n",
    "fcn = model.MyFCN_ReLU()\n",
    "\n",
    "fcn.set_state_dict(weight)\n",
    "\n",
    "test_dataset = MyDataset('./dataset/test')\n",
    "test_loader = paddle.io.DataLoader(test_dataset, batch_size=64, shuffle=True)\n",
    "\n",
    "result = test(test_loader, fcn)\n",
    "print(result)"
   ]
  },
  {
   "cell_type": "code",
   "execution_count": null,
   "outputs": [],
   "source": [
    "(0.7807142857142857, 0.7087542087542088, 0.974086071263304, 0.820502825959852)"
   ],
   "metadata": {
    "collapsed": false
   }
  }
 ],
 "metadata": {
  "kernelspec": {
   "display_name": "Python 3",
   "language": "python",
   "name": "python3"
  },
  "language_info": {
   "codemirror_mode": {
    "name": "ipython",
    "version": 2
   },
   "file_extension": ".py",
   "mimetype": "text/x-python",
   "name": "python",
   "nbconvert_exporter": "python",
   "pygments_lexer": "ipython2",
   "version": "2.7.6"
  }
 },
 "nbformat": 4,
 "nbformat_minor": 0
}
