{
 "cells": [
  {
   "cell_type": "markdown",
   "id": "574e3d0d",
   "metadata": {},
   "source": [
    "# CNN"
   ]
  },
  {
   "cell_type": "markdown",
   "id": "462a34e7",
   "metadata": {},
   "source": [
    "### Dropout 0"
   ]
  },
  {
   "cell_type": "code",
   "execution_count": null,
   "id": "16c8d84f",
   "metadata": {
    "collapsed": false,
    "jupyter": {
     "outputs_hidden": false
    },
    "scrolled": true
   },
   "outputs": [],
   "source": [
    "import model\n",
    "import paddle\n",
    "from train_and_test import train\n",
    "from dataset import MyDataset\n",
    "\n",
    "net = model.MyCNN_ReLU(dropout_rate=0)\n",
    "\n",
    "batch_size = 128\n",
    "\n",
    "train_dataset = MyDataset('./dataset/train')\n",
    "eval_dataset = MyDataset('./dataset/val')\n",
    "\n",
    "train_loader = paddle.io.DataLoader(train_dataset, batch_size=batch_size, shuffle=True)\n",
    "eval_loader = paddle.io.DataLoader(eval_dataset, batch_size=batch_size)\n",
    "\n",
    "train(net,\n",
    "      epochs=300,\n",
    "      optimizer=paddle.optimizer.Adam(learning_rate=0.0000001, parameters=net.parameters()),\n",
    "      batch_size=batch_size,\n",
    "      train_loader=train_loader,\n",
    "      val_loader=eval_loader,\n",
    "      loss_function=paddle.nn.CrossEntropyLoss(),\n",
    "      save_path='./mycnn_128_0.0000001_0_300/')"
   ]
  },
  {
   "cell_type": "markdown",
   "id": "8bf7ffb7",
   "metadata": {},
   "source": [
    "### Dropout 0.1"
   ]
  },
  {
   "cell_type": "code",
   "execution_count": null,
   "id": "3bb137aa",
   "metadata": {
    "collapsed": false,
    "jupyter": {
     "outputs_hidden": false
    },
    "scrolled": true
   },
   "outputs": [],
   "source": [
    "import model\n",
    "import paddle\n",
    "from train_and_test import train\n",
    "from dataset import MyDataset\n",
    "\n",
    "net = model.MyCNN_ReLU(dropout_rate=0.1)\n",
    "\n",
    "batch_size = 128\n",
    "\n",
    "train_dataset = MyDataset('./dataset/train')\n",
    "eval_dataset = MyDataset('./dataset/val')\n",
    "\n",
    "train_loader = paddle.io.DataLoader(train_dataset, batch_size=batch_size, shuffle=True)\n",
    "eval_loader = paddle.io.DataLoader(eval_dataset, batch_size=batch_size)\n",
    "\n",
    "train(net,\n",
    "      epochs=300,\n",
    "      optimizer=paddle.optimizer.Adam(learning_rate=0.0000001, parameters=net.parameters()),\n",
    "      batch_size=batch_size,\n",
    "      train_loader=train_loader,\n",
    "      val_loader=eval_loader,\n",
    "      loss_function=paddle.nn.CrossEntropyLoss(),\n",
    "      save_path='./mycnn_128_0.0000001_0.1_300/')"
   ]
  },
  {
   "cell_type": "markdown",
   "id": "9bfcda86",
   "metadata": {},
   "source": [
    "### Dropout 0.2"
   ]
  },
  {
   "cell_type": "code",
   "execution_count": null,
   "id": "8bb073c0",
   "metadata": {
    "collapsed": false,
    "jupyter": {
     "outputs_hidden": false
    },
    "scrolled": true
   },
   "outputs": [],
   "source": [
    "import model\n",
    "import paddle\n",
    "from train_and_test import train\n",
    "from dataset import MyDataset\n",
    "\n",
    "net = model.MyCNN_ReLU(dropout_rate=0.2)\n",
    "\n",
    "batch_size = 128\n",
    "\n",
    "train_dataset = MyDataset('./dataset/train')\n",
    "eval_dataset = MyDataset('./dataset/val')\n",
    "\n",
    "train_loader = paddle.io.DataLoader(train_dataset, batch_size=batch_size, shuffle=True)\n",
    "eval_loader = paddle.io.DataLoader(eval_dataset, batch_size=batch_size)\n",
    "\n",
    "train(net,\n",
    "      epochs=300,\n",
    "      optimizer=paddle.optimizer.Adam(learning_rate=0.0000001, parameters=net.parameters()),\n",
    "      batch_size=batch_size,\n",
    "      train_loader=train_loader,\n",
    "      val_loader=eval_loader,\n",
    "      loss_function=paddle.nn.CrossEntropyLoss(),\n",
    "      save_path='./mycnn_128_0.0000001_0.2_300/')"
   ]
  },
  {
   "cell_type": "markdown",
   "id": "9a00085e",
   "metadata": {},
   "source": [
    "### Dropout 0.3"
   ]
  },
  {
   "cell_type": "code",
   "execution_count": null,
   "id": "e49cd838",
   "metadata": {
    "collapsed": false,
    "jupyter": {
     "outputs_hidden": false
    },
    "scrolled": true
   },
   "outputs": [],
   "source": [
    "import model\n",
    "import paddle\n",
    "from train_and_test import train\n",
    "from dataset import MyDataset\n",
    "\n",
    "net = model.MyCNN_ReLU(dropout_rate=0.3)\n",
    "\n",
    "batch_size = 128\n",
    "\n",
    "train_dataset = MyDataset('./dataset/train')\n",
    "eval_dataset = MyDataset('./dataset/val')\n",
    "\n",
    "train_loader = paddle.io.DataLoader(train_dataset, batch_size=batch_size, shuffle=True)\n",
    "eval_loader = paddle.io.DataLoader(eval_dataset, batch_size=batch_size)\n",
    "\n",
    "train(net,\n",
    "      epochs=300,\n",
    "      optimizer=paddle.optimizer.Adam(learning_rate=0.0000001, parameters=net.parameters()),\n",
    "      batch_size=batch_size,\n",
    "      train_loader=train_loader,\n",
    "      val_loader=eval_loader,\n",
    "      loss_function=paddle.nn.CrossEntropyLoss(),\n",
    "      save_path='./mycnn_128_0.0000001_0.3_300/')"
   ]
  },
  {
   "cell_type": "markdown",
   "id": "fa4adbb7",
   "metadata": {},
   "source": [
    "### Dropout 0.4"
   ]
  },
  {
   "cell_type": "code",
   "execution_count": null,
   "id": "9e86cbb2",
   "metadata": {
    "collapsed": false,
    "jupyter": {
     "outputs_hidden": false
    },
    "scrolled": true
   },
   "outputs": [],
   "source": [
    "import model\n",
    "import paddle\n",
    "from train_and_test import train\n",
    "from dataset import MyDataset\n",
    "\n",
    "net = model.MyCNN_ReLU(dropout_rate=0.4)\n",
    "\n",
    "batch_size = 128\n",
    "\n",
    "train_dataset = MyDataset('./dataset/train')\n",
    "eval_dataset = MyDataset('./dataset/val')\n",
    "\n",
    "train_loader = paddle.io.DataLoader(train_dataset, batch_size=batch_size, shuffle=True)\n",
    "eval_loader = paddle.io.DataLoader(eval_dataset, batch_size=batch_size)\n",
    "\n",
    "train(net,\n",
    "      epochs=300,\n",
    "      optimizer=paddle.optimizer.Adam(learning_rate=0.0000001, parameters=net.parameters()),\n",
    "      batch_size=batch_size,\n",
    "      train_loader=train_loader,\n",
    "      val_loader=eval_loader,\n",
    "      loss_function=paddle.nn.CrossEntropyLoss(),\n",
    "      save_path='./mycnn_128_0.0000001_0.4_300/')"
   ]
  },
  {
   "cell_type": "markdown",
   "id": "614abea6",
   "metadata": {},
   "source": [
    "### Dropout 0.5"
   ]
  },
  {
   "cell_type": "code",
   "execution_count": null,
   "id": "213038ff",
   "metadata": {
    "collapsed": false,
    "jupyter": {
     "outputs_hidden": false
    },
    "scrolled": true
   },
   "outputs": [],
   "source": [
    "import model\n",
    "import paddle\n",
    "from train_and_test import train\n",
    "from dataset import MyDataset\n",
    "\n",
    "net = model.MyCNN_ReLU(dropout_rate=0.5)\n",
    "\n",
    "batch_size = 128\n",
    "\n",
    "train_dataset = MyDataset('./dataset/train')\n",
    "eval_dataset = MyDataset('./dataset/val')\n",
    "\n",
    "train_loader = paddle.io.DataLoader(train_dataset, batch_size=batch_size, shuffle=True)\n",
    "eval_loader = paddle.io.DataLoader(eval_dataset, batch_size=batch_size)\n",
    "\n",
    "train(net,\n",
    "      epochs=300,\n",
    "      optimizer=paddle.optimizer.Adam(learning_rate=0.0000001, parameters=net.parameters()),\n",
    "      batch_size=batch_size,\n",
    "      train_loader=train_loader,\n",
    "      val_loader=eval_loader,\n",
    "      loss_function=paddle.nn.CrossEntropyLoss(),\n",
    "      save_path='./mycnn_128_0.0000001_0.5_300/')"
   ]
  },
  {
   "cell_type": "markdown",
   "id": "11713a99",
   "metadata": {},
   "source": [
    "### Dropout 0.6"
   ]
  },
  {
   "cell_type": "code",
   "execution_count": null,
   "id": "e11cdb87",
   "metadata": {
    "collapsed": false,
    "jupyter": {
     "outputs_hidden": false
    },
    "scrolled": true
   },
   "outputs": [],
   "source": [
    "import model\n",
    "import paddle\n",
    "from train_and_test import train\n",
    "from dataset import MyDataset\n",
    "\n",
    "net = model.MyCNN_ReLU(dropout_rate=0.6)\n",
    "\n",
    "batch_size = 128\n",
    "\n",
    "train_dataset = MyDataset('./dataset/train')\n",
    "eval_dataset = MyDataset('./dataset/val')\n",
    "\n",
    "train_loader = paddle.io.DataLoader(train_dataset, batch_size=batch_size, shuffle=True)\n",
    "eval_loader = paddle.io.DataLoader(eval_dataset, batch_size=batch_size)\n",
    "\n",
    "train(net,\n",
    "      epochs=300,\n",
    "      optimizer=paddle.optimizer.Adam(learning_rate=0.0000001, parameters=net.parameters()),\n",
    "      batch_size=batch_size,\n",
    "      train_loader=train_loader,\n",
    "      val_loader=eval_loader,\n",
    "      loss_function=paddle.nn.CrossEntropyLoss(),\n",
    "      save_path='./mycnn_128_0.0000001_0.6_300/')"
   ]
  },
  {
   "cell_type": "markdown",
   "id": "af171b5b",
   "metadata": {},
   "source": [
    "### Dropout 0.7"
   ]
  },
  {
   "cell_type": "code",
   "execution_count": null,
   "id": "c7b7f067",
   "metadata": {
    "collapsed": false,
    "jupyter": {
     "outputs_hidden": false
    },
    "scrolled": true
   },
   "outputs": [],
   "source": [
    "import model\n",
    "import paddle\n",
    "from train_and_test import train\n",
    "from dataset import MyDataset\n",
    "\n",
    "net = model.MyCNN_ReLU(dropout_rate=0.7)\n",
    "\n",
    "batch_size = 128\n",
    "\n",
    "train_dataset = MyDataset('./dataset/train')\n",
    "eval_dataset = MyDataset('./dataset/val')\n",
    "\n",
    "train_loader = paddle.io.DataLoader(train_dataset, batch_size=batch_size, shuffle=True)\n",
    "eval_loader = paddle.io.DataLoader(eval_dataset, batch_size=batch_size)\n",
    "\n",
    "train(net,\n",
    "      epochs=300,\n",
    "      optimizer=paddle.optimizer.Adam(learning_rate=0.0000001, parameters=net.parameters()),\n",
    "      batch_size=batch_size,\n",
    "      train_loader=train_loader,\n",
    "      val_loader=eval_loader,\n",
    "      loss_function=paddle.nn.CrossEntropyLoss(),\n",
    "      save_path='./mycnn_128_0.0000001_0.7_300/')"
   ]
  },
  {
   "cell_type": "markdown",
   "id": "9e3ad5d2",
   "metadata": {},
   "source": [
    "### Dropout 0.8"
   ]
  },
  {
   "cell_type": "code",
   "execution_count": null,
   "id": "041c49da",
   "metadata": {
    "collapsed": false,
    "jupyter": {
     "outputs_hidden": false
    },
    "scrolled": true
   },
   "outputs": [],
   "source": [
    "import model\n",
    "import paddle\n",
    "from train_and_test import train\n",
    "from dataset import MyDataset\n",
    "\n",
    "net = model.MyCNN_ReLU(dropout_rate=0.8)\n",
    "\n",
    "batch_size = 128\n",
    "\n",
    "train_dataset = MyDataset('./dataset/train')\n",
    "eval_dataset = MyDataset('./dataset/val')\n",
    "\n",
    "train_loader = paddle.io.DataLoader(train_dataset, batch_size=batch_size, shuffle=True)\n",
    "eval_loader = paddle.io.DataLoader(eval_dataset, batch_size=batch_size)\n",
    "\n",
    "train(net,\n",
    "      epochs=300,\n",
    "      optimizer=paddle.optimizer.Adam(learning_rate=0.0000001, parameters=net.parameters()),\n",
    "      batch_size=batch_size,\n",
    "      train_loader=train_loader,\n",
    "      val_loader=eval_loader,\n",
    "      loss_function=paddle.nn.CrossEntropyLoss(),\n",
    "      save_path='./mycnn_128_0.0000001_0.8_300/')"
   ]
  },
  {
   "cell_type": "markdown",
   "id": "ca824e08",
   "metadata": {},
   "source": [
    "### Dropout 0.9"
   ]
  },
  {
   "cell_type": "code",
   "execution_count": null,
   "id": "b76372f1",
   "metadata": {
    "collapsed": false,
    "jupyter": {
     "outputs_hidden": false
    },
    "scrolled": true
   },
   "outputs": [],
   "source": [
    "import model\n",
    "import paddle\n",
    "from train_and_test import train\n",
    "from dataset import MyDataset\n",
    "\n",
    "net = model.MyCNN_ReLU(dropout_rate=0.9)\n",
    "\n",
    "batch_size = 128\n",
    "\n",
    "train_dataset = MyDataset('./dataset/train')\n",
    "eval_dataset = MyDataset('./dataset/val')\n",
    "\n",
    "train_loader = paddle.io.DataLoader(train_dataset, batch_size=batch_size, shuffle=True)\n",
    "eval_loader = paddle.io.DataLoader(eval_dataset, batch_size=batch_size)\n",
    "\n",
    "train(net,\n",
    "      epochs=300,\n",
    "      optimizer=paddle.optimizer.Adam(learning_rate=0.0000001, parameters=net.parameters()),\n",
    "      batch_size=batch_size,\n",
    "      train_loader=train_loader,\n",
    "      val_loader=eval_loader,\n",
    "      loss_function=paddle.nn.CrossEntropyLoss(),\n",
    "      save_path='./mycnn_128_0.0000001_0.9_300/')"
   ]
  },
  {
   "cell_type": "markdown",
   "id": "fdeb6ee7",
   "metadata": {},
   "source": [
    "# ResNet"
   ]
  },
  {
   "cell_type": "markdown",
   "id": "cadb2fa2",
   "metadata": {},
   "source": [
    "### Dropout 0"
   ]
  },
  {
   "cell_type": "code",
   "execution_count": null,
   "id": "c87f1a82",
   "metadata": {
    "collapsed": false,
    "jupyter": {
     "outputs_hidden": false
    },
    "scrolled": true
   },
   "outputs": [],
   "source": [
    "import model\n",
    "import paddle\n",
    "from train_and_test import train\n",
    "from dataset import MyDataset\n",
    "\n",
    "net = model.MyResNet_ReLU(dropout_rate=0)\n",
    "\n",
    "batch_size = 128\n",
    "\n",
    "train_dataset = MyDataset('./dataset/train')\n",
    "eval_dataset = MyDataset('./dataset/val')\n",
    "\n",
    "train_loader = paddle.io.DataLoader(train_dataset, batch_size=batch_size, shuffle=True)\n",
    "eval_loader = paddle.io.DataLoader(eval_dataset, batch_size=batch_size)\n",
    "\n",
    "train(net,\n",
    "      epochs=300,\n",
    "      optimizer=paddle.optimizer.Adam(learning_rate=0.0000001, parameters=net.parameters()),\n",
    "      batch_size=batch_size,\n",
    "      train_loader=train_loader,\n",
    "      val_loader=eval_loader,\n",
    "      loss_function=paddle.nn.CrossEntropyLoss(),\n",
    "      save_path='./myresnet_128_0.0000001_0_300/')"
   ]
  },
  {
   "cell_type": "markdown",
   "id": "9af46a94",
   "metadata": {},
   "source": [
    "### Dropout 0.1"
   ]
  },
  {
   "cell_type": "code",
   "execution_count": null,
   "id": "dbdafb85",
   "metadata": {
    "collapsed": false,
    "jupyter": {
     "outputs_hidden": false
    },
    "scrolled": true
   },
   "outputs": [],
   "source": [
    "import model\n",
    "import paddle\n",
    "from train_and_test import train\n",
    "from dataset import MyDataset\n",
    "\n",
    "net = model.MyResNet_ReLU(dropout_rate=0.1)\n",
    "\n",
    "batch_size = 128\n",
    "\n",
    "train_dataset = MyDataset('./dataset/train')\n",
    "eval_dataset = MyDataset('./dataset/val')\n",
    "\n",
    "train_loader = paddle.io.DataLoader(train_dataset, batch_size=batch_size, shuffle=True)\n",
    "eval_loader = paddle.io.DataLoader(eval_dataset, batch_size=batch_size)\n",
    "\n",
    "train(net,\n",
    "      epochs=300,\n",
    "      optimizer=paddle.optimizer.Adam(learning_rate=0.0000001, parameters=net.parameters()),\n",
    "      batch_size=batch_size,\n",
    "      train_loader=train_loader,\n",
    "      val_loader=eval_loader,\n",
    "      loss_function=paddle.nn.CrossEntropyLoss(),\n",
    "      save_path='./myresnet_128_0.0000001_0.1_300/')"
   ]
  },
  {
   "cell_type": "markdown",
   "id": "3f2a4b4b",
   "metadata": {},
   "source": [
    "### Dropout 0.2"
   ]
  },
  {
   "cell_type": "code",
   "execution_count": null,
   "id": "2fd3148c",
   "metadata": {
    "collapsed": false,
    "jupyter": {
     "outputs_hidden": false
    },
    "scrolled": true
   },
   "outputs": [],
   "source": [
    "import model\n",
    "import paddle\n",
    "from train_and_test import train\n",
    "from dataset import MyDataset\n",
    "\n",
    "net = model.MyResNet_ReLU(dropout_rate=0.2)\n",
    "\n",
    "batch_size = 128\n",
    "\n",
    "train_dataset = MyDataset('./dataset/train')\n",
    "eval_dataset = MyDataset('./dataset/val')\n",
    "\n",
    "train_loader = paddle.io.DataLoader(train_dataset, batch_size=batch_size, shuffle=True)\n",
    "eval_loader = paddle.io.DataLoader(eval_dataset, batch_size=batch_size)\n",
    "\n",
    "train(net,\n",
    "      epochs=300,\n",
    "      optimizer=paddle.optimizer.Adam(learning_rate=0.0000001, parameters=net.parameters()),\n",
    "      batch_size=batch_size,\n",
    "      train_loader=train_loader,\n",
    "      val_loader=eval_loader,\n",
    "      loss_function=paddle.nn.CrossEntropyLoss(),\n",
    "      save_path='./myresnet_128_0.0000001_0.2_300/')"
   ]
  },
  {
   "cell_type": "markdown",
   "id": "3be83bfc",
   "metadata": {},
   "source": [
    "### Dropout 0.3"
   ]
  },
  {
   "cell_type": "code",
   "execution_count": null,
   "id": "019fcb81",
   "metadata": {
    "collapsed": false,
    "jupyter": {
     "outputs_hidden": false
    },
    "scrolled": true
   },
   "outputs": [],
   "source": [
    "import model\n",
    "import paddle\n",
    "from train_and_test import train\n",
    "from dataset import MyDataset\n",
    "\n",
    "net = model.MyResNet_ReLU(dropout_rate=0.3)\n",
    "\n",
    "batch_size = 128\n",
    "\n",
    "train_dataset = MyDataset('./dataset/train')\n",
    "eval_dataset = MyDataset('./dataset/val')\n",
    "\n",
    "train_loader = paddle.io.DataLoader(train_dataset, batch_size=batch_size, shuffle=True)\n",
    "eval_loader = paddle.io.DataLoader(eval_dataset, batch_size=batch_size)\n",
    "\n",
    "train(net,\n",
    "      epochs=300,\n",
    "      optimizer=paddle.optimizer.Adam(learning_rate=0.0000001, parameters=net.parameters()),\n",
    "      batch_size=batch_size,\n",
    "      train_loader=train_loader,\n",
    "      val_loader=eval_loader,\n",
    "      loss_function=paddle.nn.CrossEntropyLoss(),\n",
    "      save_path='./myresnet_128_0.0000001_0.3_300/')"
   ]
  },
  {
   "cell_type": "markdown",
   "id": "30765cdc",
   "metadata": {},
   "source": [
    "### Dropout 0.4"
   ]
  },
  {
   "cell_type": "code",
   "execution_count": null,
   "id": "049f769a",
   "metadata": {
    "collapsed": false,
    "jupyter": {
     "outputs_hidden": false
    },
    "scrolled": true
   },
   "outputs": [],
   "source": [
    "import model\n",
    "import paddle\n",
    "from train_and_test import train\n",
    "from dataset import MyDataset\n",
    "\n",
    "net = model.MyResNet_ReLU(dropout_rate=0.4)\n",
    "\n",
    "batch_size = 128\n",
    "\n",
    "train_dataset = MyDataset('./dataset/train')\n",
    "eval_dataset = MyDataset('./dataset/val')\n",
    "\n",
    "train_loader = paddle.io.DataLoader(train_dataset, batch_size=batch_size, shuffle=True)\n",
    "eval_loader = paddle.io.DataLoader(eval_dataset, batch_size=batch_size)\n",
    "\n",
    "train(net,\n",
    "      epochs=300,\n",
    "      optimizer=paddle.optimizer.Adam(learning_rate=0.0000001, parameters=net.parameters()),\n",
    "      batch_size=batch_size,\n",
    "      train_loader=train_loader,\n",
    "      val_loader=eval_loader,\n",
    "      loss_function=paddle.nn.CrossEntropyLoss(),\n",
    "      save_path='./myresnet_128_0.0000001_0.4_300/')"
   ]
  },
  {
   "cell_type": "markdown",
   "id": "a232395d",
   "metadata": {},
   "source": [
    "### Dropout 0.5"
   ]
  },
  {
   "cell_type": "code",
   "execution_count": null,
   "id": "6633ded3",
   "metadata": {
    "collapsed": false,
    "jupyter": {
     "outputs_hidden": false
    },
    "scrolled": true
   },
   "outputs": [],
   "source": [
    "import model\n",
    "import paddle\n",
    "from train_and_test import train\n",
    "from dataset import MyDataset\n",
    "\n",
    "net = model.MyResNet_ReLU(dropout_rate=0.5)\n",
    "\n",
    "batch_size = 128\n",
    "\n",
    "train_dataset = MyDataset('./dataset/train')\n",
    "eval_dataset = MyDataset('./dataset/val')\n",
    "\n",
    "train_loader = paddle.io.DataLoader(train_dataset, batch_size=batch_size, shuffle=True)\n",
    "eval_loader = paddle.io.DataLoader(eval_dataset, batch_size=batch_size)\n",
    "\n",
    "train(net,\n",
    "      epochs=300,\n",
    "      optimizer=paddle.optimizer.Adam(learning_rate=0.0000001, parameters=net.parameters()),\n",
    "      batch_size=batch_size,\n",
    "      train_loader=train_loader,\n",
    "      val_loader=eval_loader,\n",
    "      loss_function=paddle.nn.CrossEntropyLoss(),\n",
    "      save_path='./myresnet_128_0.0000001_0.5_300/')"
   ]
  },
  {
   "cell_type": "markdown",
   "id": "70b2f1ed",
   "metadata": {},
   "source": [
    "### Dropout 0.6"
   ]
  },
  {
   "cell_type": "code",
   "execution_count": null,
   "id": "02ee270e",
   "metadata": {
    "collapsed": false,
    "jupyter": {
     "outputs_hidden": false
    },
    "scrolled": true
   },
   "outputs": [],
   "source": [
    "import model\n",
    "import paddle\n",
    "from train_and_test import train\n",
    "from dataset import MyDataset\n",
    "\n",
    "net = model.MyResNet_ReLU(dropout_rate=0.6)\n",
    "\n",
    "batch_size = 128\n",
    "\n",
    "train_dataset = MyDataset('./dataset/train')\n",
    "eval_dataset = MyDataset('./dataset/val')\n",
    "\n",
    "train_loader = paddle.io.DataLoader(train_dataset, batch_size=batch_size, shuffle=True)\n",
    "eval_loader = paddle.io.DataLoader(eval_dataset, batch_size=batch_size)\n",
    "\n",
    "train(net,\n",
    "      epochs=300,\n",
    "      optimizer=paddle.optimizer.Adam(learning_rate=0.0000001, parameters=net.parameters()),\n",
    "      batch_size=batch_size,\n",
    "      train_loader=train_loader,\n",
    "      val_loader=eval_loader,\n",
    "      loss_function=paddle.nn.CrossEntropyLoss(),\n",
    "      save_path='./myresnet_128_0.0000001_0.6_300/')"
   ]
  },
  {
   "cell_type": "markdown",
   "id": "2bec29d7",
   "metadata": {},
   "source": [
    "### Dropout 0.7"
   ]
  },
  {
   "cell_type": "code",
   "execution_count": null,
   "id": "b1f7938c",
   "metadata": {
    "collapsed": false,
    "jupyter": {
     "outputs_hidden": false
    },
    "scrolled": true
   },
   "outputs": [],
   "source": [
    "import model\n",
    "import paddle\n",
    "from train_and_test import train\n",
    "from dataset import MyDataset\n",
    "\n",
    "net = model.MyResNet_ReLU(dropout_rate=0.7)\n",
    "\n",
    "batch_size = 128\n",
    "\n",
    "train_dataset = MyDataset('./dataset/train')\n",
    "eval_dataset = MyDataset('./dataset/val')\n",
    "\n",
    "train_loader = paddle.io.DataLoader(train_dataset, batch_size=batch_size, shuffle=True)\n",
    "eval_loader = paddle.io.DataLoader(eval_dataset, batch_size=batch_size)\n",
    "\n",
    "train(net,\n",
    "      epochs=300,\n",
    "      optimizer=paddle.optimizer.Adam(learning_rate=0.0000001, parameters=net.parameters()),\n",
    "      batch_size=batch_size,\n",
    "      train_loader=train_loader,\n",
    "      val_loader=eval_loader,\n",
    "      loss_function=paddle.nn.CrossEntropyLoss(),\n",
    "      save_path='./myresnet_128_0.0000001_0.7_300/')"
   ]
  },
  {
   "cell_type": "markdown",
   "id": "a730b1c8",
   "metadata": {},
   "source": [
    "### Dropout 0.8"
   ]
  },
  {
   "cell_type": "code",
   "execution_count": null,
   "id": "22c60084",
   "metadata": {
    "collapsed": false,
    "jupyter": {
     "outputs_hidden": false
    },
    "scrolled": true
   },
   "outputs": [],
   "source": [
    "import model\n",
    "import paddle\n",
    "from train_and_test import train\n",
    "from dataset import MyDataset\n",
    "\n",
    "net = model.MyResNet_ReLU(dropout_rate=0.8)\n",
    "\n",
    "batch_size = 128\n",
    "\n",
    "train_dataset = MyDataset('./dataset/train')\n",
    "eval_dataset = MyDataset('./dataset/val')\n",
    "\n",
    "train_loader = paddle.io.DataLoader(train_dataset, batch_size=batch_size, shuffle=True)\n",
    "eval_loader = paddle.io.DataLoader(eval_dataset, batch_size=batch_size)\n",
    "\n",
    "train(net,\n",
    "      epochs=300,\n",
    "      optimizer=paddle.optimizer.Adam(learning_rate=0.0000001, parameters=net.parameters()),\n",
    "      batch_size=batch_size,\n",
    "      train_loader=train_loader,\n",
    "      val_loader=eval_loader,\n",
    "      loss_function=paddle.nn.CrossEntropyLoss(),\n",
    "      save_path='./myresnet_128_0.0000001_0.8_300/')"
   ]
  },
  {
   "cell_type": "markdown",
   "id": "cdcd2723",
   "metadata": {},
   "source": [
    "### Dropout 0.9"
   ]
  },
  {
   "cell_type": "code",
   "execution_count": null,
   "id": "fd2be77b",
   "metadata": {
    "collapsed": false,
    "jupyter": {
     "outputs_hidden": false
    },
    "scrolled": true
   },
   "outputs": [],
   "source": [
    "import model\n",
    "import paddle\n",
    "from train_and_test import train\n",
    "from dataset import MyDataset\n",
    "\n",
    "net = model.MyResNet_ReLU(dropout_rate=0.9)\n",
    "\n",
    "batch_size = 128\n",
    "\n",
    "train_dataset = MyDataset('./dataset/train')\n",
    "eval_dataset = MyDataset('./dataset/val')\n",
    "\n",
    "train_loader = paddle.io.DataLoader(train_dataset, batch_size=batch_size, shuffle=True)\n",
    "eval_loader = paddle.io.DataLoader(eval_dataset, batch_size=batch_size)\n",
    "\n",
    "train(net,\n",
    "      epochs=300,\n",
    "      optimizer=paddle.optimizer.Adam(learning_rate=0.0000001, parameters=net.parameters()),\n",
    "      batch_size=batch_size,\n",
    "      train_loader=train_loader,\n",
    "      val_loader=eval_loader,\n",
    "      loss_function=paddle.nn.CrossEntropyLoss(),\n",
    "      save_path='./myresnet_128_0.0000001_0.9_300/')"
   ]
  },
  {
   "cell_type": "code",
   "execution_count": null,
   "id": "e1bfb372",
   "metadata": {
    "collapsed": false,
    "jupyter": {
     "outputs_hidden": false
    },
    "scrolled": true
   },
   "outputs": [],
   "source": []
  }
 ],
 "metadata": {
  "kernelspec": {
   "display_name": "Python 3",
   "language": "python",
   "name": "py35-paddle1.2.0"
  },
  "language_info": {
   "codemirror_mode": {
    "name": "ipython",
    "version": 3
   },
   "file_extension": ".py",
   "mimetype": "text/x-python",
   "name": "python",
   "nbconvert_exporter": "python",
   "pygments_lexer": "ipython3",
   "version": "3.9.16"
  }
 },
 "nbformat": 4,
 "nbformat_minor": 5
}
